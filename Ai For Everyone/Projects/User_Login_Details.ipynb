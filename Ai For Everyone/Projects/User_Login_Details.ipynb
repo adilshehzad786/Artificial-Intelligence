{
  "nbformat": 4,
  "nbformat_minor": 0,
  "metadata": {
    "colab": {
      "name": "User Login Details.ipynb",
      "provenance": [],
      "collapsed_sections": []
    },
    "kernelspec": {
      "name": "python3",
      "display_name": "Python 3"
    }
  },
  "cells": [
    {
      "cell_type": "markdown",
      "metadata": {
        "id": "9GUwD_63hn7m",
        "colab_type": "text"
      },
      "source": [
        ""
      ]
    },
    {
      "cell_type": "code",
      "metadata": {
        "id": "0bVypkueenuj",
        "colab_type": "code",
        "colab": {
          "base_uri": "https://localhost:8080/",
          "height": 51
        },
        "outputId": "0da8ff86-48e9-47b1-a8d0-034fa9d0e769"
      },
      "source": [
        "class Event:\n",
        "  def __init__(self, event_date, event_type, machine_name, user):\n",
        "    self.date = event_date\n",
        "    self.type = event_type\n",
        "    self.machine = machine_name\n",
        "    self.user = user\n",
        "\n",
        "events = [\n",
        "    Event('2020-01-21 12:45:56', 'login', 'myworkstation.local', 'jordan'),\n",
        "    Event('2020-01-22 15:53:42', 'logout', 'webserver.local', 'jordan'),\n",
        "    Event('2020-01-21 18:53:21', 'login', 'webserver.local', 'lane'),\n",
        "    Event('2020-01-22 10:25:34', 'logout', 'myworkstation.local', 'jordan'),\n",
        "    Event('2020-01-21 08:20:01', 'login', 'webserver.local', 'jordan'),\n",
        "    Event('2020-01-23 11:24:35', 'logout', 'mailserver.local', 'chris'),\n",
        "]\n",
        "\n",
        "def get_data(event):\n",
        "  return event.date\n",
        "\n",
        "\n",
        "def current_user(events):\n",
        "\n",
        "  events.sort(key=get_data)\n",
        "  machines={}\n",
        "\n",
        "  for event in events:\n",
        "\n",
        "    if event.machine not in machines:\n",
        "\n",
        "      machines[event.machine]=set()\n",
        "\n",
        "    if event.type==\"login\":\n",
        "      machines[event.machine].add(event.user)\n",
        "\n",
        "    elif event.type==\"logout\":\n",
        "\n",
        "      machines[event.machine].remove(event.user)\n",
        "    \n",
        "    return machines\n",
        "  \n",
        "def generate_report(machines):\n",
        "\n",
        "  for machine , user in machines.items():\n",
        "\n",
        "    if len(user)>0:\n",
        "\n",
        "      user_list=\", \".join(user)\n",
        "\n",
        "      print(\"{}{}\".format(machine,user_list))\n",
        "\n",
        "\n",
        "users = current_user(events)\n",
        "print(users)\n",
        "generate_report(users)\n"
      ],
      "execution_count": 6,
      "outputs": [
        {
          "output_type": "stream",
          "text": [
            "{'webserver.local': {'jordan'}}\n",
            "webserver.localjordan\n"
          ],
          "name": "stdout"
        }
      ]
    },
    {
      "cell_type": "code",
      "metadata": {
        "id": "RYcIRtg0hoS7",
        "colab_type": "code",
        "colab": {}
      },
      "source": [
        ""
      ],
      "execution_count": 0,
      "outputs": []
    },
    {
      "cell_type": "code",
      "metadata": {
        "id": "_QBCGrL-epfV",
        "colab_type": "code",
        "colab": {}
      },
      "source": [
        ""
      ],
      "execution_count": 0,
      "outputs": []
    }
  ]
}